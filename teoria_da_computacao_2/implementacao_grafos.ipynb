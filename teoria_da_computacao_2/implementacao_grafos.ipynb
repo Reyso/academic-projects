{
 "cells": [
  {
   "cell_type": "markdown",
   "id": "5c2bad84-4fed-4814-a999-297e78d7dec3",
   "metadata": {},
   "source": [
    "# Teoria da Computação 2 - Conceitos de Grafos"
   ]
  },
  {
   "cell_type": "markdown",
   "id": "d9352a7e-4dd8-454a-af47-8302a364907a",
   "metadata": {
    "tags": []
   },
   "source": [
    "## Instalação das bibliotecas e depedências"
   ]
  },
  {
   "cell_type": "code",
   "execution_count": 2,
   "id": "335e52aa-f012-4509-b9ec-ed1dc9113a53",
   "metadata": {},
   "outputs": [
    {
     "name": "stdout",
     "output_type": "stream",
     "text": [
      "Requirement already satisfied: networkx in /opt/anaconda/lib/python3.9/site-packages (2.7.1)\n"
     ]
    }
   ],
   "source": [
    "!pip install networkx"
   ]
  },
  {
   "cell_type": "code",
   "execution_count": 612,
   "id": "ae2e5335-c117-4aa8-b6c9-81ea14fad1d2",
   "metadata": {},
   "outputs": [],
   "source": [
    "import networkx as nx\n",
    "from networkx.algorithms import tournament\n",
    "import matplotlib.pyplot as plt\n",
    "import numpy as np"
   ]
  },
  {
   "cell_type": "markdown",
   "id": "c7765f06-c100-4eb7-99f8-587c7f99bea7",
   "metadata": {
    "tags": []
   },
   "source": [
    "## Classe Princpipal"
   ]
  },
  {
   "cell_type": "code",
   "execution_count": 616,
   "id": "09ca75ff-9ca5-416b-b3e9-552f8693fe55",
   "metadata": {},
   "outputs": [],
   "source": [
    "class Graph:\n",
    "    \n",
    "    def __init__(self, edges, orient):\n",
    "           \n",
    "        '''\n",
    "            Retorna um grafo com vértices e arestas determinadas.\n",
    "\n",
    "                Parameters:\n",
    "                        edges list(int): Lista de tuplas que criará arestas e vértices\n",
    "                        orient (bool): Define se será um grafo Direcionado\n",
    "\n",
    "                    Se Orient for True, será gerado um grafo DIRECIONADO\n",
    "                    Caso contrário, False, criaremos um grafo NÃO DIRECIONADO\n",
    "\n",
    "        '''\n",
    "\n",
    "        if not orient :\n",
    "            self.graph = nx.Graph()\n",
    "            self.graph.add_edges_from(edges)\n",
    "        else:\n",
    "            self.graph = nx.DiGraph()\n",
    "            self.graph.add_edges_from(edges)\n",
    "            \n",
    "    def list_nodes(self):\n",
    "        return list(graph.nodes)\n",
    "    \n",
    "            \n",
    "    def complete_graph(self,num_vertices):\n",
    "        self.graph = nx.complete_graph(num_vertices)\n",
    "\n",
    "\n",
    "    def add_edge(self, edge):\n",
    "        self.graph.add_edge(*edge)\n",
    "        \n",
    "    def remove_edge(self,edge):\n",
    "        '''\n",
    "        Remove a aresta\n",
    "        \n",
    "        Parameters:\n",
    "            Grafo : grafo a ser avaliado\n",
    "            edge tuple(int,int): tupla de que representa a aresta a ser retirada\n",
    "        \n",
    "        \n",
    "        >>>Graph.remove_edgle(grafo,(v1,v2))\n",
    "        \n",
    "        '''\n",
    "        return self.graph.remove_edge(*edge)\n",
    "       \n",
    "    \n",
    "    def has_edge(self, edge):\n",
    "        '''\n",
    "        Verifica a existência de uma aresta\n",
    "        Graph.has_edge(grafo,(v1,v2))\n",
    "        \n",
    "        >>edge = [(1,2),(2,3)]\n",
    "        >>g = Graph(edge,False)\n",
    "        >>>Graph.has_edge(g,(1,2))\n",
    "        True\n",
    "        \n",
    "        '''\n",
    "        \n",
    "        return self.graph.has_edge(*edge)\n",
    "    \n",
    "    def degree(self, vertex):\n",
    "        '''\n",
    "        Retorna o grau do vértice\n",
    "        \n",
    "        Grau do vértice é definico pelo número de relações com outros vértices\n",
    "                \n",
    "        Graph.degree(grafo,v1)\n",
    "        \n",
    "        '''\n",
    "        return self.graph.degree(vertex)\n",
    "    \n",
    "    def adjacency_list(self, vertex):\n",
    "        '''\n",
    "        Retorna a lista de adjacencias de um determinado vértice\n",
    "        \n",
    "        Grau do vértice é definico pelo número de relações com outros vértices\n",
    "                \n",
    "        Graph.adjacency_list(grafo,v1)\n",
    "        \n",
    "        '''\n",
    "        \n",
    "        return list(self.graph.neighbors(vertex))\n",
    "    \n",
    "    def is_cyclic(self):\n",
    "        #return nx.is_cyclic(self.graph)\n",
    "        if len(nx.cycle_basis(self.graph)) > 0:\n",
    "            return nx.cycle_basis(self.graph)\n",
    "        else:\n",
    "            return print('O grafo não possui ciclos')\n",
    "    \n",
    "    def is_connected(self):\n",
    "        return nx.is_connected(self.graph)\n",
    "    \n",
    "    def is_eulerian(self):\n",
    "        return nx.is_eulerian(self.graph)\n",
    "    \n",
    "    def is_hamiltonian(self):\n",
    "        if self.graph == nx.is_directed_acyclic_graph:\n",
    "            return tournament.hamiltonian_path(G)\n",
    "        else\n",
    "\n",
    "    def plot(self):\n",
    "        \n",
    "        nx.draw_spring(self.graph, with_labels=True,)\n",
    "        plt.show()\n"
   ]
  },
  {
   "cell_type": "markdown",
   "id": "52b1ae30-4aaf-4bd2-9f79-e8993283c6d4",
   "metadata": {
    "tags": []
   },
   "source": [
    "## a. Criar um Grafo."
   ]
  },
  {
   "cell_type": "code",
   "execution_count": 587,
   "id": "8ca4ec06-39ad-4cbe-ad7d-8ad6d128e50f",
   "metadata": {},
   "outputs": [],
   "source": [
    "# Criando um Grafo de 5 nós e 5 arestas e não direcionado\n",
    "\n",
    "edges = [(1, 2), (1, 3), (2, 4), (3, 4),(4,5),(5,2)]\n",
    "#edges = [(1,2),(2,3),(3,1)]\n",
    "g = Graph(edges,False)"
   ]
  },
  {
   "cell_type": "markdown",
   "id": "78117c2e-f6c6-4262-a4bd-2c3b14351c4d",
   "metadata": {
    "jp-MarkdownHeadingCollapsed": true,
    "tags": []
   },
   "source": [
    "### Plotando o Grafo\n"
   ]
  },
  {
   "cell_type": "code",
   "execution_count": 588,
   "id": "726f3710-4c7b-4d66-a075-5c59e49f2c9d",
   "metadata": {},
   "outputs": [
    {
     "data": {
      "image/png": "[encoded data removed]",
      "text/plain": [
       "<Figure size 432x288 with 1 Axes>"
      ]
     },
     "metadata": {},
     "output_type": "display_data"
    }
   ],
   "source": [
    "Graph.plot(g)"
   ]
  },
  {
   "cell_type": "markdown",
   "id": "a9408e50-eceb-4c46-a6d6-0bb4fd1a28f9",
   "metadata": {
    "jp-MarkdownHeadingCollapsed": true,
    "tags": []
   },
   "source": [
    "## b. Verificar a existência de uma determinada aresta."
   ]
  },
  {
   "cell_type": "code",
   "execution_count": 589,
   "id": "ae7edc8d-fcd3-405b-b3e1-b0070e6ec7bd",
   "metadata": {},
   "outputs": [
    {
     "name": "stdout",
     "output_type": "stream",
     "text": [
      "True\n",
      "False\n"
     ]
    }
   ],
   "source": [
    "# Verificando arestas existentes\n",
    "\n",
    "# aresta existente\n",
    "true_edge = (1,2)\n",
    "\n",
    "#aresta não existente\n",
    "false_edge = (1,5)\n",
    "\n",
    "print(g.has_edge(true_edge))\n",
    "\n",
    "print(g.has_edge(false_edge))"
   ]
  },
  {
   "cell_type": "markdown",
   "id": "72972542-e7fd-436f-9da4-8f4467e50b21",
   "metadata": {
    "jp-MarkdownHeadingCollapsed": true,
    "tags": []
   },
   "source": [
    "## d. Informar o grau de um dado vértice."
   ]
  },
  {
   "cell_type": "code",
   "execution_count": 590,
   "id": "a20c1c68-a89e-4e55-bc65-0a335dcd26e5",
   "metadata": {},
   "outputs": [
    {
     "name": "stdout",
     "output_type": "stream",
     "text": [
      "O vértice 5 possui o grau: 2\n"
     ]
    }
   ],
   "source": [
    "#sorteando um vértice aleatório\n",
    "vertice  = np.random.randint(1,6)\n",
    "\n",
    "#obetendo o grau deste vértice\n",
    "print(f'O vértice {vertice} possui o grau: {Graph.degree(g,vertice)}')\n"
   ]
  },
  {
   "cell_type": "code",
   "execution_count": 591,
   "id": "5b117142-11c4-4e5e-b7d2-4d88c45c7b3d",
   "metadata": {},
   "outputs": [
    {
     "name": "stdout",
     "output_type": "stream",
     "text": [
      "o Vértice 1 possui grau: 2\n",
      "o Vértice 2 possui grau: 3\n",
      "o Vértice 3 possui grau: 2\n"
     ]
    }
   ],
   "source": [
    "for v in Graph.list_nodes(g):\n",
    "    print(f'o Vértice {v} possui grau: {Graph.degree(g,v)}')"
   ]
  },
  {
   "cell_type": "markdown",
   "id": "c7d8df84-c898-423b-a50e-ffd8d88e28cd",
   "metadata": {
    "jp-MarkdownHeadingCollapsed": true,
    "tags": []
   },
   "source": [
    "## e. Informar a lista de adjacência de um dado vértice."
   ]
  },
  {
   "cell_type": "code",
   "execution_count": 592,
   "id": "7c34ed39-2544-4640-965b-4ab2723b0680",
   "metadata": {},
   "outputs": [
    {
     "name": "stdout",
     "output_type": "stream",
     "text": [
      "O vértice 5 possui o(s) vizinho(s) : [4, 2]\n"
     ]
    }
   ],
   "source": [
    "# Obtendo a lista de adjacencia do vértice\n",
    "\n",
    "print(f'O vértice {vertice} possui o(s) vizinho(s) : {Graph.adjacency_list(g,vertice)}')\n"
   ]
  },
  {
   "cell_type": "markdown",
   "id": "7301e4d1-bcbe-456f-9e79-c052c1e4f7d3",
   "metadata": {
    "jp-MarkdownHeadingCollapsed": true,
    "tags": []
   },
   "source": [
    "## f. Verificar se o grafo é cíclico"
   ]
  },
  {
   "cell_type": "code",
   "execution_count": 553,
   "id": "6796827c-ee87-4b79-8b8b-4a43234601e2",
   "metadata": {},
   "outputs": [
    {
     "name": "stdout",
     "output_type": "stream",
     "text": [
      "o Grafo G possui o ciclo\n"
     ]
    },
    {
     "data": {
      "text/plain": [
       "[[2, 4, 3, 1], [2, 5, 4]]"
      ]
     },
     "execution_count": 553,
     "metadata": {},
     "output_type": "execute_result"
    }
   ],
   "source": [
    "#Obetendo o cliclo do grafo\n",
    "\n",
    "print(f'o Grafo G possui o ciclo')\n",
    "\n",
    "Graph.is_cyclic(g)"
   ]
  },
  {
   "cell_type": "markdown",
   "id": "7e07cf3a-0c2b-472c-a8c7-060ab61425fc",
   "metadata": {
    "jp-MarkdownHeadingCollapsed": true,
    "tags": []
   },
   "source": [
    "## g. Verificar se o grafo é conexo."
   ]
  },
  {
   "cell_type": "markdown",
   "id": "203e2ef8-7c43-4a5a-b46e-c9e4769230cb",
   "metadata": {
    "jp-MarkdownHeadingCollapsed": true,
    "tags": []
   },
   "source": [
    "### Grafo Conexo"
   ]
  },
  {
   "cell_type": "code",
   "execution_count": 554,
   "id": "3d7c78a8-cc93-45cb-aa05-8b3e1b82f283",
   "metadata": {},
   "outputs": [
    {
     "data": {
      "image/png": "[encoded data removed]",
      "text/plain": [
       "<Figure size 432x288 with 1 Axes>"
      ]
     },
     "metadata": {},
     "output_type": "display_data"
    },
    {
     "data": {
      "text/plain": [
       "True"
      ]
     },
     "execution_count": 554,
     "metadata": {},
     "output_type": "execute_result"
    }
   ],
   "source": [
    "\n",
    "edges = [(1, 2), (1, 3), (2, 4), (3, 4),(4,5),(5,2)]\n",
    "#edges = [(1,2),(2,3),(3,1)]\n",
    "g = Graph(edges,False)\n",
    "\n",
    "Graph.plot(g)\n",
    "Graph.is_connected(g)\n"
   ]
  },
  {
   "cell_type": "markdown",
   "id": "18f16569-4ba5-40a0-85d5-75b1d6b0b9fc",
   "metadata": {
    "jp-MarkdownHeadingCollapsed": true,
    "tags": []
   },
   "source": [
    "### Grafo não conexo"
   ]
  },
  {
   "cell_type": "code",
   "execution_count": 555,
   "id": "491568dd-7ba9-4555-b00f-50df9da4100c",
   "metadata": {},
   "outputs": [
    {
     "name": "stdout",
     "output_type": "stream",
     "text": [
      "O grafo é conexo?\n"
     ]
    },
    {
     "data": {
      "image/png": "[encoded data removed]",
      "text/plain": [
       "<Figure size 432x288 with 1 Axes>"
      ]
     },
     "metadata": {},
     "output_type": "display_data"
    },
    {
     "data": {
      "text/plain": [
       "False"
      ]
     },
     "execution_count": 555,
     "metadata": {},
     "output_type": "execute_result"
    }
   ],
   "source": [
    "print(f'O grafo é conexo?')\n",
    "\n",
    "edges_Noconected = [(1,2),(3,4)]\n",
    "g_Noconected = Graph(edges_Noconected,False)\n",
    "\n",
    "Graph.plot(g_Noconected)\n",
    "Graph.is_connected(g_Noconected)\n"
   ]
  },
  {
   "cell_type": "markdown",
   "id": "9cac16d1-5fed-4b84-b82a-211e9f5835b5",
   "metadata": {
    "tags": []
   },
   "source": [
    "## h. Verificar se o grafo é Euleriano."
   ]
  },
  {
   "cell_type": "code",
   "execution_count": 594,
   "id": "3822d797-1c38-4fef-b6c6-bf3737b59536",
   "metadata": {},
   "outputs": [
    {
     "name": "stdout",
     "output_type": "stream",
     "text": [
      "O grafo é euleriano?\n"
     ]
    },
    {
     "data": {
      "text/plain": [
       "False"
      ]
     },
     "execution_count": 594,
     "metadata": {},
     "output_type": "execute_result"
    }
   ],
   "source": [
    "\n",
    "print('O grafo é euleriano?')\n",
    "Graph.is_eulerian(g)\n"
   ]
  },
  {
   "cell_type": "code",
   "execution_count": 598,
   "id": "d9ba5b9f-5e72-4d7b-a73c-04969e59b147",
   "metadata": {},
   "outputs": [
    {
     "name": "stdout",
     "output_type": "stream",
     "text": [
      "O grafo é euleriano?\n"
     ]
    },
    {
     "data": {
      "image/png": "[encoded data removed]",
      "text/plain": [
       "<Figure size 432x288 with 1 Axes>"
      ]
     },
     "metadata": {},
     "output_type": "display_data"
    },
    {
     "data": {
      "text/plain": [
       "True"
      ]
     },
     "execution_count": 598,
     "metadata": {},
     "output_type": "execute_result"
    }
   ],
   "source": [
    "edges = [(1,2),(2,3),(3,1)]\n",
    "g = Graph(edges,False)\n",
    "\n",
    "print('O grafo é euleriano?')\n",
    "Graph.plot(g)\n",
    "Graph.is_eulerian(g)"
   ]
  },
  {
   "cell_type": "markdown",
   "id": "00dca988-4de6-455b-aaf2-3dfbe7f31a21",
   "metadata": {},
   "source": [
    "Trata de um circuito de Euler, pois todas os nós possuem grau par\n",
    "\n",
    "Pois toda aresta é percorrida apenas uma vez"
   ]
  },
  {
   "cell_type": "markdown",
   "id": "e3bb2c82-5e9f-42e6-a9b9-cbd718d18d19",
   "metadata": {},
   "source": [
    "## i. Verificar se o grafo é Hamiltoniano."
   ]
  },
  {
   "cell_type": "markdown",
   "id": "88648deb-2180-4e97-a051-3679b139cf04",
   "metadata": {},
   "source": [
    "Problema Hamiltoniano, requer que todo os vértices seja percorrido uma unica vez, não importando com a aresta"
   ]
  },
  {
   "cell_type": "markdown",
   "id": "053a542c-7ee5-4f86-a37a-f7b632293a8e",
   "metadata": {},
   "source": [
    "A classe `Graph` recebe um conjunto de arestas ao ser instanciada, que são utilizadas para criar um grafo. Os métodos `add_edge` e `has_edge` permitem adicionar e verificar a existência de uma aresta, respectivamente.\n",
    "\n",
    "O método `degree` retorna o grau de um vértice, enquanto o método `adjacency_list` retorna a lista de adjacência de um vértice.\n",
    "\n",
    "Os métodos `is_cyclic`, `is_connected`, `is_eulerian` verificam se o grafo é cíclico, conexo, euleriano, respectivamente.\n",
    "\n",
    "Por fim, o método `plot` plota o grafo utilizando a biblioteca `networkx` e o módulo pyplot da biblioteca matplotlib.\n",
    "\n",
    "\n",
    "\n"
   ]
  },
  {
   "cell_type": "code",
   "execution_count": null,
   "id": "24c4676d-887c-43fd-9279-c211fbbf7c55",
   "metadata": {},
   "outputs": [],
   "source": []
  }
 ],
 "metadata": {
  "kernelspec": {
   "display_name": "Python 3 (ipykernel)",
   "language": "python",
   "name": "python3"
  },
  "language_info": {
   "codemirror_mode": {
    "name": "ipython",
    "version": 3
   },
   "file_extension": ".py",
   "mimetype": "text/x-python",
   "name": "python",
   "nbconvert_exporter": "python",
   "pygments_lexer": "ipython3",
   "version": "3.9.12"
  }
 },
 "nbformat": 4,
 "nbformat_minor": 5
}
