{
 "cells": [
  {
   "cell_type": "markdown",
   "id": "49736c92-3333-44ca-b610-db5d03a21877",
   "metadata": {},
   "source": [
    "## Tarefa 03 - Grafos de Busca"
   ]
  },
  {
   "cell_type": "markdown",
   "id": "d88fa3ad-09dc-44a5-9a03-a0f185e90994",
   "metadata": {},
   "source": [
    "- Discente: Reyso C Teixeira\n",
    "- Matricla: 201906840012"
   ]
  },
  {
   "cell_type": "code",
   "execution_count": 197,
   "id": "93124ba3-1a75-46fb-9477-ac9c0b0e6763",
   "metadata": {},
   "outputs": [],
   "source": [
    "import numpy as np\n",
    "import networkx as nx\n",
    "import matplotlib.pyplot as plt\n",
    "#from collections import deque"
   ]
  },
  {
   "cell_type": "markdown",
   "id": "20905efa-bbd5-4a88-89fe-2f116750196c",
   "metadata": {
    "tags": []
   },
   "source": [
    "## Grafo "
   ]
  },
  {
   "cell_type": "code",
   "execution_count": 194,
   "id": "51dc29e8-2f87-49ec-9296-d6d9c45d4569",
   "metadata": {},
   "outputs": [],
   "source": [
    "graph = {\n",
    "    'A': ['B', 'C'],\n",
    "    'B': ['D', 'E'],\n",
    "    'C': ['F'],\n",
    "    'D': [],\n",
    "    'E': ['F'],\n",
    "    'F': []\n",
    "}\n",
    "g = nx.DiGraph(graph) # GRAFO DIRECIONADO"
   ]
  },
  {
   "cell_type": "markdown",
   "id": "7fd579f7-0e1d-4949-8865-47131cab4057",
   "metadata": {
    "tags": []
   },
   "source": [
    "## Busca em profundidade"
   ]
  },
  {
   "cell_type": "markdown",
   "id": "cb603f6a-7692-4e2f-b1d2-095f904a3399",
   "metadata": {},
   "source": [
    "O algoritmo de busca em profundidade (DFS - Depth-First Search) é um algoritmo de busca que percorre todo o grafo em profundidade antes de voltar para um nó anterior. Ele começa em um nó inicial e explora todos os caminhos possíveis a partir dele antes de seguir para o próximo nó não explorado."
   ]
  },
  {
   "cell_type": "markdown",
   "id": "3faf9522-8d1e-41b0-a1fa-1033f6a73431",
   "metadata": {},
   "source": [
    "O algoritmo utiliza uma pilha para manter o controle de quais nós devem ser explorados a seguir."
   ]
  },
  {
   "cell_type": "markdown",
   "id": "c1f334db-7a19-4b2d-910e-674a3450dc5c",
   "metadata": {
    "tags": []
   },
   "source": [
    "### Função de busca em profundidade"
   ]
  },
  {
   "cell_type": "code",
   "execution_count": 236,
   "id": "d562ee0c-36df-4064-b2d3-64fc4bd2d686",
   "metadata": {},
   "outputs": [],
   "source": [
    "# Função busca em profundidade\n",
    "def dfs(graph, start, visited=None):\n",
    "     # Se o conjunto de nós visitados ainda não foi inicializado, cria um conjunto vazio\n",
    "    if visited is None:\n",
    "        visited = set() # a estrutura set() não permite nós duplicados\n",
    "    # Adiciona o nó atual ao conjunto de nós visitados \n",
    "    visited.add(start)\n",
    "    # imprime o nó atual\n",
    "    print(start, end=' ')\n",
    "    \n",
    "    for neighbor in graph[start]:\n",
    "    # Se o vizinho ainda não foi visitado, chama a função de busca em profundidade recursivamente a partir dele\n",
    "        if neighbor not in visited:\n",
    "            dfs(graph, neighbor, visited)\n"
   ]
  },
  {
   "cell_type": "code",
   "execution_count": 237,
   "id": "c93ed08e-5ab0-4f18-a13a-67e9ae1c77d1",
   "metadata": {},
   "outputs": [
    {
     "name": "stdout",
     "output_type": "stream",
     "text": [
      "A B D E F C "
     ]
    }
   ],
   "source": [
    "# Aplicando a busca em profundidade a partir do nó 'A'\n",
    "dfs(graph, 'A')"
   ]
  },
  {
   "cell_type": "markdown",
   "id": "e8c3660f-635b-47aa-8d6c-d4cba914e54d",
   "metadata": {},
   "source": [
    "<img src = \"dfs.png\">"
   ]
  },
  {
   "cell_type": "markdown",
   "id": "f0013100-81ca-4795-a453-12d9d5f7412b",
   "metadata": {},
   "source": [
    "Como mencionado acima o algoritimo armazena os nós visitado em uma pilha para buscar a maxima profundidade de um nó antes de retroceder a um nó anterior, como no caso do caminho:\n",
    "\n",
    "- A -> B > D\n",
    "\n",
    "Haja vista que D não possui nenhum o outro nó filho, então o algorítimo volta a nó anterior buscando sua adjancencia, neste caso  o vértice B, então\n",
    "\n",
    "- B -> E,\n",
    "\n",
    "Notamos que o nó B já foi visitado, logo retiramos ele da pilha que armazena os nós visitados, e prosseguimos o com:\n",
    "\n",
    "- E -> F -> C\n",
    "\n",
    "Por fim imprimimos os vértices vistados\n",
    "\n",
    "- A B D E F C "
   ]
  },
  {
   "cell_type": "markdown",
   "id": "690933e7-1bed-453c-a88d-fb0290518e59",
   "metadata": {},
   "source": [
    "## Busca em largura"
   ]
  },
  {
   "cell_type": "markdown",
   "id": "7e3c5b77-977e-4de4-aa85-b241d71b09f4",
   "metadata": {},
   "source": [
    "O algoritmo BFS (Busca em Largura, em português) é um algoritmo de busca em grafos que explora todos os nós de um grafo de forma ordenada, começando pelo nó inicial e visitando todos os seus vizinhos antes de passar para os vizinhos dos vizinhos."
   ]
  },
  {
   "cell_type": "markdown",
   "id": "afc1921b-ce5b-49d2-95a1-96a744cbf549",
   "metadata": {},
   "source": [
    "O algoritmo utiliza uma fila para armazenar os nós a serem visitados. O primeiro nó a ser visitado é adicionado à fila. Em seguida, enquanto a fila não estiver vazia, o primeiro elemento é removido da fila e seus vizinhos são adicionados à fila. Os vizinhos são explorados na ordem em que foram adicionados à fila, garantindo que os nós mais próximos sejam visitados primeiro."
   ]
  },
  {
   "cell_type": "markdown",
   "id": "c5abf373-be1f-4b13-ac6f-3ae44e3a9741",
   "metadata": {},
   "source": [
    "Ao contrário da busca em profundidade, a lista de controle dos nós visitado é uma fila "
   ]
  },
  {
   "cell_type": "markdown",
   "id": "afcbd18c-ad15-44e2-bc16-fc2a185248fd",
   "metadata": {},
   "source": [
    "### Função BFS"
   ]
  },
  {
   "cell_type": "code",
   "execution_count": 232,
   "id": "d0bdb2f0-fcd2-4447-85da-5bd5b0ce0e9c",
   "metadata": {},
   "outputs": [],
   "source": [
    "visited = []\n",
    "queue = []\n",
    "\n",
    "def bfs(graph,start,visited=None):\n",
    "    if visited is None:\n",
    "        visited = [] # a estrutura set() não permite nós duplicados\n",
    "    visited.append(start)\n",
    "    queue.append(start)\n",
    "    \n",
    "    while queue: # lopp para cada visita ao nó\n",
    "        m = queue.pop(0)\n",
    "        print(m,end = ' ')\n",
    "        for neighbour in graph[m]:\n",
    "            if neighbour not in visited:\n",
    "                visited.append(neighbour)\n",
    "                queue.append(neighbour)"
   ]
  },
  {
   "cell_type": "code",
   "execution_count": 234,
   "id": "c4511f22-5b2a-4942-bf91-d6d8e7beb041",
   "metadata": {},
   "outputs": [
    {
     "name": "stdout",
     "output_type": "stream",
     "text": [
      "Busca em largura, iniciando do nó *A*\n",
      "A B C D E F "
     ]
    }
   ],
   "source": [
    "print('Busca em largura, iniciando do nó *A*')\n",
    "bfs(graph,'A')"
   ]
  },
  {
   "cell_type": "markdown",
   "id": "af7b0059-eb52-4d5b-b2a7-e5adb5633d88",
   "metadata": {},
   "source": [
    "<img src = \"bfs.png\">"
   ]
  },
  {
   "cell_type": "markdown",
   "id": "5aba5c31-d7ea-418b-b1e2-6943cd42b480",
   "metadata": {},
   "source": [
    "Podemos observar que apartir do nó A, o mapeamento dos próximo vertices são de forma horizontal"
   ]
  },
  {
   "cell_type": "markdown",
   "id": "0133d575-b2a6-4aae-86a9-42c1fe53b9da",
   "metadata": {},
   "source": [
    "## Busca pelo menor caminho"
   ]
  },
  {
   "cell_type": "markdown",
   "id": "266cf16b-b72d-4307-9cd9-7c94f45a3580",
   "metadata": {},
   "source": [
    "O algoritmo de busca pelo menor caminho (também conhecido como algoritmo de Dijkstra) é utilizado para encontrar o caminho mais curto entre dois vértices"
   ]
  },
  {
   "cell_type": "markdown",
   "id": "054f9140-3638-4717-9024-d90658b6739a",
   "metadata": {},
   "source": [
    "O algorítimo mantém uma lista de distâncias e um conjunto de vértices visitados.\n",
    "A partir da origiem, ele atualiza as distâncias para seus vizinho adjacentes,"
   ]
  },
  {
   "cell_type": "code",
   "execution_count": 254,
   "id": "2a105b83-ede3-489e-8d1f-cee3f8b3e0db",
   "metadata": {},
   "outputs": [],
   "source": [
    "from collections import deque\n",
    "\n",
    "def shortest_path(graph, start, end):\n",
    "    visited = {start} # conjunto dos nós visitados, começando pelo nó inicial\n",
    "    queue = deque([(start, [start])]) # fila de nós a serem visitados, começando pelo nó inicial e com um caminho vazio\n",
    "    \n",
    "    while queue:\n",
    "        (vertex, path) = queue.popleft() # retira o primeiro nó da fila e seu caminho correspondente\n",
    "        for neighbor in graph[vertex]: # percorre os vizinhos do nó atual\n",
    "            if neighbor == end: # se o vizinho é o nó destino\n",
    "                return path + [end] # retorna o menor caminho até o nó destino\n",
    "            elif neighbor not in visited: # se o vizinho ainda não foi visitado\n",
    "                visited.add(neighbor) # adiciona o vizinho ao conjunto de nós visitados\n",
    "                queue.append((neighbor, path + [neighbor])) # adiciona o vizinho à fila, com o caminho atualizado\n",
    "                \n",
    "    return None # caso não exista caminho entre os nós start e end\n"
   ]
  },
  {
   "cell_type": "code",
   "execution_count": 256,
   "id": "bdb296df-b66b-4e68-a3c5-b7e0ab0afb41",
   "metadata": {},
   "outputs": [
    {
     "data": {
      "text/plain": [
       "['A', 'C', 'F']"
      ]
     },
     "execution_count": 256,
     "metadata": {},
     "output_type": "execute_result"
    }
   ],
   "source": [
    "shortest_path(graph,'A','F')"
   ]
  },
  {
   "cell_type": "markdown",
   "id": "190a10a4-22ac-4ce0-9394-735f69adb7f7",
   "metadata": {},
   "source": [
    "<img scr = \"shortest_path.png\">"
   ]
  }
 ],
 "metadata": {
  "kernelspec": {
   "display_name": "Python 3 (ipykernel)",
   "language": "python",
   "name": "python3"
  },
  "language_info": {
   "codemirror_mode": {
    "name": "ipython",
    "version": 3
   },
   "file_extension": ".py",
   "mimetype": "text/x-python",
   "name": "python",
   "nbconvert_exporter": "python",
   "pygments_lexer": "ipython3",
   "version": "3.9.13"
  }
 },
 "nbformat": 4,
 "nbformat_minor": 5
}
