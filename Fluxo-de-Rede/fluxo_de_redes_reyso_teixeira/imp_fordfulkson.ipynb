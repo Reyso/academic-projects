{
 "cells": [
  {
   "attachments": {},
   "cell_type": "markdown",
   "metadata": {},
   "source": [
    "## Programa 6.1: Fluxo máximo em uma rede (Ford e Fulkerson)\n",
    "\n",
    "algoritimo adaptado do livro:\n",
    "- Szwarcfiter, J. L. (2018). Teoria Computacional de Grafos: os Algoritmos (2ª ed.) Capítulo 6.8.1 - Algoritimo 6.1 \"Fluxo Máximo\""
   ]
  },
  {
   "cell_type": "code",
   "execution_count": 2,
   "metadata": {},
   "outputs": [],
   "source": [
    "class Aresta:\n",
    "    def __init__(self, v1, v2):\n",
    "        self.v1 = v1\n",
    "        self.v2 = v2\n",
    "        self.c = 0  # Capacidade\n",
    "        self.f = 0  # Fluxo\n",
    "\n",
    "class GrafoListaAdj:\n",
    "    def __init__(self, orientado=True):\n",
    "        self.adj = {}\n",
    "        self.n = 0  # Número de vértices\n",
    "        self.orientado = orientado\n",
    "\n",
    "    def AdicionarAresta(self, v1, v2):\n",
    "        if v1 not in self.adj:\n",
    "            self.adj[v1] = []\n",
    "        if v2 not in self.adj:\n",
    "            self.adj[v2] = []\n",
    "\n",
    "        e = Aresta(v1, v2)\n",
    "        self.adj[v1].append(e)\n",
    "\n",
    "        if not self.orientado:\n",
    "            e_oposta = Aresta(v2, v1)\n",
    "            self.adj[v2].append(e_oposta)\n",
    "\n",
    "        return e\n",
    "\n",
    "    def E(self):\n",
    "        for v in self.adj:\n",
    "            for e in self.adj[v]:\n",
    "                yield (v, e)\n",
    "\n",
    "def FluxoMaximo(D):\n",
    "    ''' Saída : F, o fluxo maximo'''\n",
    "\n",
    "    F = 0\n",
    "    for (_, uv) in D.E():\n",
    "        uv.f = 0\n",
    "    Dlin = ObterRedeResidual(D)\n",
    "    s, t = 1, D.n´\n",
    "    P = Busca(Dlin, s, t)\n",
    "    while len(P) > 0:\n",
    "        Flin = min([uv.r for uv in P])\n",
    "        for j in range(len(P)):\n",
    "            if P[j].direta:\n",
    "                P[j].eD.f = P[j].eD.f + Flin\n",
    "            else:\n",
    "                P[j].eD.f = P[j].eD.f - Flin\n",
    "        F = F + Flin\n",
    "        Dlin = ObterRedeResidual(D)\n",
    "        P = Busca(Dlin, s, t)\n",
    "    return F\n",
    "\n",
    "def ObterRedeResidual(D):\n",
    "    Dlin = GrafoListaAdj(orientado=True)\n",
    "    Dlin.n = D.n\n",
    "    for (v, uv) in D.E():\n",
    "        aresta = uv\n",
    "        if aresta.c - aresta.f > 0:\n",
    "            e = Dlin.AdicionarAresta(aresta.v1, aresta.v2)\n",
    "            e.r = aresta.c - aresta.f\n",
    "            e.direta = True\n",
    "            e.eD = aresta\n",
    "        if aresta.f > 0:\n",
    "            e = Dlin.AdicionarAresta(aresta.v2, aresta.v1)\n",
    "            e.r = aresta.f\n",
    "            e.direta = False\n",
    "            e.eD = aresta\n",
    "    return Dlin\n",
    "\n",
    "def DFS(D, v, t, visited, path):\n",
    "    visited[v] = True\n",
    "    if v == t:\n",
    "        return True\n",
    "    for e in D.adj[v]:\n",
    "        if not visited[e.v2] and e.r > 0:\n",
    "            path.append(e)\n",
    "            if DFS(D, e.v2, t, visited, path):\n",
    "                return True\n",
    "            path.pop()\n",
    "    return False\n",
    "\n",
    "def Busca(D, s, t):\n",
    "    visited = [False] * (D.n + 1)\n",
    "    path = []\n",
    "    DFS(D, s, t, visited, path)\n",
    "    return path\n"
   ]
  },
  {
   "cell_type": "code",
   "execution_count": 3,
   "metadata": {},
   "outputs": [
    {
     "name": "stdout",
     "output_type": "stream",
     "text": [
      "Fluxo máximo: 16\n"
     ]
    }
   ],
   "source": [
    "# Criando o grafo de exemplo\n",
    "D = GrafoListaAdj(orientado=True)\n",
    "D.n = 4 #  nós\n",
    "\n",
    "e1 = D.AdicionarAresta(1, 2) # aresta\n",
    "e1.c = 9 #capacidade\n",
    "\n",
    "e2 = D.AdicionarAresta(1, 3)\n",
    "e2.c = 8\n",
    "\n",
    "e3 = D.AdicionarAresta(2, 3)\n",
    "e3.c = 2\n",
    "\n",
    "e4 = D.AdicionarAresta(2, 4)\n",
    "e4.c = 7\n",
    "\n",
    "e5 = D.AdicionarAresta(3, 4)\n",
    "e5.c = 9\n",
    "\n",
    "\n",
    "# Calculando o fluxo máximo\n",
    "fluxo_maximo = FluxoMaximo(D)\n",
    "\n",
    "print(\"Fluxo máximo:\", fluxo_maximo)\n"
   ]
  },
  {
   "attachments": {},
   "cell_type": "markdown",
   "metadata": {},
   "source": [
    "<img src = \"img/corte_minimo_gray.png\">"
   ]
  },
  {
   "attachments": {},
   "cell_type": "markdown",
   "metadata": {},
   "source": [
    "> Na figura 1, podemos obeservar um corte no dígrafo de s → t em que um arco que\n",
    "atravessa as arestas com as menores capacidades possíveis. Logo, o fluxo máximo  é\n",
    "obtido pela soma das capacidades destas arestas."
   ]
  },
  {
   "attachments": {},
   "cell_type": "markdown",
   "metadata": {},
   "source": []
  }
 ],
 "metadata": {
  "kernelspec": {
   "display_name": "base",
   "language": "python",
   "name": "python3"
  },
  "language_info": {
   "codemirror_mode": {
    "name": "ipython",
    "version": 3
   },
   "file_extension": ".py",
   "mimetype": "text/x-python",
   "name": "python",
   "nbconvert_exporter": "python",
   "pygments_lexer": "ipython3",
   "version": "3.9.13"
  },
  "orig_nbformat": 4
 },
 "nbformat": 4,
 "nbformat_minor": 2
}
